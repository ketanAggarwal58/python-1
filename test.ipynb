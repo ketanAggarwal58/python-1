{
 "cells": [
  {
   "attachments": {},
   "cell_type": "markdown",
   "metadata": {},
   "source": [
    "This is the first Section"
   ]
  },
  {
   "cell_type": "code",
   "execution_count": 1,
   "metadata": {},
   "outputs": [
    {
     "name": "stdout",
     "output_type": "stream",
     "text": [
      "Hello World!\n",
      "Hello World!\n",
      "Hello World!\n",
      "Hello World!\n"
     ]
    }
   ],
   "source": [
    "# Basic Print In-built Function in Python\n",
    "print(\"Hello World!\")\n",
    "\n",
    "# User Defined - we build this function\n",
    "def test(): # Basic Function\n",
    "    print(\"Hello World!\")\n",
    "    \n",
    "# Calling the functions\n",
    "test() # - return Hello World\n",
    "test()\n",
    "test()"
   ]
  },
  {
   "attachments": {},
   "cell_type": "markdown",
   "metadata": {},
   "source": [
    "This is the Second Section"
   ]
  },
  {
   "cell_type": "code",
   "execution_count": 5,
   "metadata": {},
   "outputs": [
    {
     "name": "stdout",
     "output_type": "stream",
     "text": [
      "10\n",
      "hi Kaavyansh!\n"
     ]
    }
   ],
   "source": [
    "# Creating a new function.\n",
    "\n",
    "# This is a Global variable\n",
    "kaavyansh = 10\n",
    "# Kaavyansh = 9\n",
    "\n",
    "def test1():\n",
    "    # This is a local Variable\n",
    "    ketan = \"hi Ketan\"\n",
    "    \n",
    "    if kaavyansh == 10:\n",
    "        print(\"hi Kaavyansh!\")\n",
    "    else:\n",
    "        print(\"Bye Kaavyansh!\")\n",
    "        \n",
    "        \n",
    "print(kaavyansh)\n",
    "# Calling the Function        \n",
    "test1()"
   ]
  },
  {
   "attachments": {},
   "cell_type": "markdown",
   "metadata": {},
   "source": [
    "This is Third Section"
   ]
  },
  {
   "cell_type": "code",
   "execution_count": 8,
   "metadata": {},
   "outputs": [
    {
     "name": "stdout",
     "output_type": "stream",
     "text": [
      "30\n",
      "30\n"
     ]
    }
   ],
   "source": [
    "def test2():\n",
    "    a = 10\n",
    "    b = 20\n",
    "    return a+b\n",
    "\n",
    "sum = test2()\n",
    "\n",
    "test2()\n",
    "\n",
    "print(sum)\n",
    "print(test2())"
   ]
  }
 ],
 "metadata": {
  "kernelspec": {
   "display_name": "python-ML",
   "language": "python",
   "name": "python3"
  },
  "language_info": {
   "codemirror_mode": {
    "name": "ipython",
    "version": 3
   },
   "file_extension": ".py",
   "mimetype": "text/x-python",
   "name": "python",
   "nbconvert_exporter": "python",
   "pygments_lexer": "ipython3",
   "version": "3.8.10"
  },
  "orig_nbformat": 4
 },
 "nbformat": 4,
 "nbformat_minor": 2
}
