{
 "cells": [
  {
   "attachments": {},
   "cell_type": "markdown",
   "metadata": {},
   "source": [
    "## This is the first Section"
   ]
  },
  {
   "cell_type": "code",
   "execution_count": 9,
   "metadata": {},
   "outputs": [
    {
     "name": "stdout",
     "output_type": "stream",
     "text": [
      "Hello World!\n",
      "Hello World!\n",
      "Hello World!\n",
      "Hello World!\n"
     ]
    }
   ],
   "source": [
    "# Basic Print In-built Function in Python\n",
    "print(\"Hello World!\")\n",
    "\n",
    "# User Defined - we build this function\n",
    "def test(): # Basic Function\n",
    "    print(\"Hello World!\")\n",
    "    \n",
    "# Calling the functions\n",
    "test() # - return Hello World\n",
    "test()\n",
    "test()"
   ]
  },
  {
   "attachments": {},
   "cell_type": "markdown",
   "metadata": {},
   "source": [
    "## This is the Second Section"
   ]
  },
  {
   "cell_type": "code",
   "execution_count": 10,
   "metadata": {},
   "outputs": [
    {
     "name": "stdout",
     "output_type": "stream",
     "text": [
      "10\n",
      "hi Kaavyansh!\n"
     ]
    }
   ],
   "source": [
    "# Creating a new function.\n",
    "\n",
    "# This is a Global variable\n",
    "kaavyansh = 10\n",
    "# Kaavyansh = 9\n",
    "\n",
    "def test1():\n",
    "    # This is a local Variable\n",
    "    ketan = \"hi Ketan\"\n",
    "    \n",
    "    if kaavyansh == 10:\n",
    "        print(\"hi Kaavyansh!\")\n",
    "    else:\n",
    "        print(\"Bye Kaavyansh!\")\n",
    "        \n",
    "        \n",
    "print(kaavyansh)\n",
    "# Calling the Function        \n",
    "test1()"
   ]
  },
  {
   "attachments": {},
   "cell_type": "markdown",
   "metadata": {},
   "source": [
    "## This is Third Section"
   ]
  },
  {
   "cell_type": "code",
   "execution_count": 11,
   "metadata": {},
   "outputs": [
    {
     "name": "stdout",
     "output_type": "stream",
     "text": [
      "30\n",
      "30\n"
     ]
    }
   ],
   "source": [
    "def test2():\n",
    "    a = 10\n",
    "    b = 20\n",
    "    return a+b\n",
    "\n",
    "sum = test2()\n",
    "\n",
    "test2()\n",
    "\n",
    "print(sum)\n",
    "print(test2())"
   ]
  },
  {
   "attachments": {},
   "cell_type": "markdown",
   "metadata": {},
   "source": [
    "## This is the Forth Section\n",
    "\n",
    "we have three (3) data Structures in Python\n",
    "1. Lists = [] // These are mutable (This can be changed)\n",
    "2. Tuples = () // These are immutable (This cannot be changed)\n",
    "3. Dictionary = {key:value} "
   ]
  },
  {
   "attachments": {},
   "cell_type": "markdown",
   "metadata": {},
   "source": [
    "## Operators in Python\n",
    "\n",
    "1. Is Equal Operator - ==\n",
    "2. Not Equal Operator = !=\n",
    "3. a *= a // a = a*a\n",
    "4. a += a // a = a+a\n",
    "1/2 = 0 // because the .5 is ignored by the python.\n",
    "1%2 = 1 // here the python is giving us the remainder.\n",
    "5. Increment Operator = var++ , ++var\n",
    "6. Decrement operator = var-- , ++var\n",
    "\n",
    "7. Bitwise Operators = and, or"
   ]
  },
  {
   "cell_type": "code",
   "execution_count": 12,
   "metadata": {},
   "outputs": [
    {
     "name": "stdout",
     "output_type": "stream",
     "text": [
      ":( we didnt find 2\n",
      "yaah! we found 2\n",
      ":( we didnt find 2\n",
      ":( we didnt find 2\n",
      ":( we didnt find 2\n"
     ]
    }
   ],
   "source": [
    "#  Lists \n",
    "numbers = [1, 2, 3, 4, 5]\n",
    "\n",
    "# For Loop concept\n",
    "for x in numbers:\n",
    "    if x == 2:\n",
    "        print(\"yaah! we found 2\")\n",
    "    else:\n",
    "        print(':( we didnt find 2')\n",
    "\n",
    "\n",
    "# Importing the package\n",
    "import csv\n",
    "\n",
    "# As keyword is used to give nicknames in the python. \n",
    "\n",
    "# Kaavyansh Approach\n",
    "# file = open('Significant.csv', mode='r')\n",
    "# csvFile = csv.reader(file)\n",
    "\n",
    "# for lines in csvFile:\n",
    "#     print(lines)\n",
    "\n",
    "# G4G Approach\n",
    "# with open('Significant.csv', mode='r') as file:\n",
    "#     csvFile = csv.reader(file)\n",
    "\n",
    "#     for lines in csvFile:\n",
    "#         print(lines)"
   ]
  }
 ],
 "metadata": {
  "kernelspec": {
   "display_name": "python-ML",
   "language": "python",
   "name": "python3"
  },
  "language_info": {
   "codemirror_mode": {
    "name": "ipython",
    "version": 3
   },
   "file_extension": ".py",
   "mimetype": "text/x-python",
   "name": "python",
   "nbconvert_exporter": "python",
   "pygments_lexer": "ipython3",
   "version": "3.8.10"
  },
  "orig_nbformat": 4
 },
 "nbformat": 4,
 "nbformat_minor": 2
}
